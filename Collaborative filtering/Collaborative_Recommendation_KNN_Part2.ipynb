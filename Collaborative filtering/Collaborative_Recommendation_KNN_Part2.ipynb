{
  "nbformat": 4,
  "nbformat_minor": 0,
  "metadata": {
    "colab": {
      "name": "Collaborative_Recommendation_KNN_Part2.ipynb",
      "provenance": [],
      "collapsed_sections": []
    },
    "kernelspec": {
      "name": "python3",
      "display_name": "Python 3"
    },
    "language_info": {
      "name": "python"
    }
  },
  "cells": [
    {
      "cell_type": "code",
      "metadata": {
        "colab": {
          "base_uri": "https://localhost:8080/"
        },
        "id": "mQEUBZT0s-M9",
        "outputId": "3a1e7ad6-f259-474c-eacc-bbcc313f8fa1"
      },
      "source": [
        "import pandas as pd\n",
        "import numpy as np\n",
        "import pickle\n",
        "model = pickle.load(open('model_knn.pkl', 'rb'))\n",
        "movie_features_df = pd.read_csv(\"movie_features_df.csv\")\n",
        "movie_features = movie_features_df.set_index('title')\n",
        "movie_name_list = movie_features.index.tolist()\n",
        "movie_name_input = '40-Year-Old Virgin, The (2005)' #giving input to the model\n",
        "query_index = movie_name_list.index(movie_name_input)\n",
        "distances, indices = model.kneighbors(movie_features.iloc[query_index,:].values.reshape(1, -1), n_neighbors = 6)\n",
        "for i in range(0, len(distances.flatten())):\n",
        "    if i == 0:\n",
        "        print('Recommendations for {0}:\\n'.format(movie_features.index[query_index]))\n",
        "    else:\n",
        "        print('{0}: {1}, with distance of {2}:'.format(i, movie_features.index[indices.flatten()[i]], distances.flatten()[i]))\n"
      ],
      "execution_count": null,
      "outputs": [
        {
          "output_type": "stream",
          "text": [
            "Recommendations for 40-Year-Old Virgin, The (2005):\n",
            "\n",
            "1: Knocked Up (2007), with distance of 0.3646412985738432:\n",
            "2: 300 (2007), with distance of 0.38874479105255466:\n",
            "3: Superbad (2007), with distance of 0.4057646088967686:\n",
            "4: Wedding Crashers (2005), with distance of 0.4131535170257943:\n",
            "5: Hangover, The (2009), with distance of 0.46321694773503175:\n"
          ],
          "name": "stdout"
        }
      ]
    },
    {
      "cell_type": "code",
      "metadata": {
        "id": "CcVHZgTJxvrj"
      },
      "source": [
        ""
      ],
      "execution_count": null,
      "outputs": []
    }
  ]
}